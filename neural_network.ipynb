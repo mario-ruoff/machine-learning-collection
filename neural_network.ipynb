{
 "cells": [
  {
   "cell_type": "markdown",
   "metadata": {},
   "source": [
    "### An implementation of a simple neural network"
   ]
  },
  {
   "cell_type": "markdown",
   "metadata": {},
   "source": [
    "#### Data Loading and Network Setup"
   ]
  },
  {
   "cell_type": "code",
   "execution_count": 23,
   "metadata": {},
   "outputs": [
    {
     "name": "stdout",
     "output_type": "stream",
     "text": [
      "Loading dataset...\n",
      "Reshaping dataset...\n",
      "Creating network...\n",
      "Done\n"
     ]
    },
    {
     "data": {
      "image/png": "[encoded data removed]",
      "text/plain": [
       "<Figure size 640x480 with 1 Axes>"
      ]
     },
     "metadata": {},
     "output_type": "display_data"
    }
   ],
   "source": [
    "import numpy as np\n",
    "%matplotlib inline \n",
    "import matplotlib.pyplot as plt\n",
    "from data_loader import MnistDataloader\n",
    "from IPython.display import display, clear_output\n",
    "\n",
    "print(\"Loading dataset...\")\n",
    "mnist_dataloader = MnistDataloader()\n",
    "(x_train, y_train), (x_test, y_test) = mnist_dataloader.load_data()\n",
    "x_train = np.array(x_train) # 60000 x 28 x 28\n",
    "y_train = np.array(y_train) # 60000\n",
    "x_test = np.array(x_test)   # 10000 x 28 x 28\n",
    "y_test = np.array(y_test)   # 10000\n",
    "\n",
    "# Show example image\n",
    "plt.imshow(x_train[0], cmap=plt.cm.gray)\n",
    "\n",
    "# Convert tensor to lower dimension and normalize\n",
    "print(\"Reshaping dataset...\")\n",
    "x_train = x_train.reshape(x_train.shape[0], -1) # 60000 x 784\n",
    "x_train = x_train / 255.0\n",
    "x_test = x_test.reshape(x_test.shape[0], -1)    # 10000 x 784\n",
    "x_test = x_test / 255.0\n",
    "\n",
    "# Apply one-hot-coding to labels\n",
    "y_train_hot = np.zeros((y_train.size, 10))\n",
    "y_train_hot[np.arange(y_train.size), y_train] = 1   # 60000 x 10\n",
    "y_test_hot = np.zeros((y_test.size, 10))\n",
    "y_test_hot[np.arange(y_test.size), y_test] = 1      # 10000 x 10\n",
    "\n",
    "# Construct network\n",
    "print(\"Creating network...\")\n",
    "hidden_neurons = 128\n",
    "output_neurons = 10\n",
    "learning_rate = 0.1\n",
    "weights_h = np.random.randn(x_train.shape[1], hidden_neurons) * 0.01  # 784 x 128\n",
    "biases_h = np.zeros(hidden_neurons)                                   # 128\n",
    "weights_o = np.random.randn(hidden_neurons, output_neurons) * 0.01    # 128 x 10\n",
    "biases_o = np.zeros(output_neurons)\n",
    "print(\"Done\")"
   ]
  },
  {
   "cell_type": "markdown",
   "metadata": {},
   "source": [
    "#### Network Training"
   ]
  },
  {
   "cell_type": "code",
   "execution_count": 38,
   "metadata": {},
   "outputs": [
    {
     "data": {
      "text/plain": [
       "'Training 59000 of 60000 done.'"
      ]
     },
     "metadata": {},
     "output_type": "display_data"
    },
    {
     "data": {
      "image/png": "[encoded data removed]",
      "text/plain": [
       "<Figure size 640x480 with 1 Axes>"
      ]
     },
     "metadata": {},
     "output_type": "display_data"
    },
    {
     "name": "stdout",
     "output_type": "stream",
     "text": [
      "Done\n"
     ]
    }
   ],
   "source": [
    "# ReLU activation function\n",
    "def relu(vector):\n",
    "    return np.maximum(0, vector)\n",
    "\n",
    "\n",
    "# Derivative function of ReLU\n",
    "def relu_derivative(x):\n",
    "    return (x > 0).astype(float)\n",
    "\n",
    "\n",
    "# Softmax activation function\n",
    "def softmax(vector):\n",
    "    exp_vector = np.exp(vector)\n",
    "    return exp_vector / np.sum(exp_vector)\n",
    "\n",
    "\n",
    "# Cross entropy loss function\n",
    "def ce_loss(output_vector, label_vector):\n",
    "    return -np.sum(label_vector * np.log(output_vector))\n",
    "\n",
    "# Run network\n",
    "losses = []\n",
    "for index in range(x_train.shape[0]):\n",
    "    if index % 1000 == 0:\n",
    "        clear_output(wait=True)\n",
    "        display(f\"Training {index} of {x_train.shape[0]} done.\")\n",
    "\n",
    "    # Forward pass\n",
    "    hidden_output = relu(np.dot(x_train[index], weights_h) + biases_h)\n",
    "    output = softmax(np.dot(hidden_output, weights_o) + biases_o)\n",
    "    losses.append(ce_loss(output, y_train_hot[index]))\n",
    "\n",
    "    # Backward pass\n",
    "    # d_output = output - y_train_hot[index]  # Combined derivative of softmax and ce loss\n",
    "    # d_loss_weights_o = np.outer(hidden_output, d_output)\n",
    "    # d_output_h = np.dot(weights_o, d_output) * relu_derivative(hidden_output)\n",
    "    # d_loss_weights_h = np.outer(x_train[index], d_output_h)\n",
    "\n",
    "    # weights_o -= learning_rate * d_loss_weights_o\n",
    "    # biases_o -= learning_rate * d_output\n",
    "    # weights_h -= learning_rate * d_loss_weights_h\n",
    "    # biases_h -= learning_rate * d_output_h\n",
    "\n",
    "plt.plot(losses)\n",
    "plt.show()\n",
    "print(\"Done\")"
   ]
  }
 ],
 "metadata": {
  "kernelspec": {
   "display_name": "base",
   "language": "python",
   "name": "python3"
  },
  "language_info": {
   "codemirror_mode": {
    "name": "ipython",
    "version": 3
   },
   "file_extension": ".py",
   "mimetype": "text/x-python",
   "name": "python",
   "nbconvert_exporter": "python",
   "pygments_lexer": "ipython3",
   "version": "3.12.2"
  }
 },
 "nbformat": 4,
 "nbformat_minor": 2
}
